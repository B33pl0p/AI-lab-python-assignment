{
 "cells": [
  {
   "cell_type": "code",
   "execution_count": 1,
   "id": "5958ee0a-84a0-46ae-9a81-861d2e9dc8bf",
   "metadata": {},
   "outputs": [],
   "source": [
    "#fibonacci sequence upto n terms\n",
    "#define a recursive function\n",
    "def fib(n):\n",
    "    if(n==0):\n",
    "        return 0\n",
    "    elif (n==1):\n",
    "        return 1\n",
    "    else:\n",
    "        return fib(n-2) + fib(n-1)    "
   ]
  },
  {
   "cell_type": "code",
   "execution_count": 2,
   "id": "93cf5a74-d7fa-4837-998a-628c6f7fa584",
   "metadata": {},
   "outputs": [
    {
     "name": "stdin",
     "output_type": "stream",
     "text": [
      "Enter the number of terms required:  10\n"
     ]
    }
   ],
   "source": [
    "n = int(input(\"Enter the number of terms required: \"))"
   ]
  },
  {
   "cell_type": "code",
   "execution_count": 3,
   "id": "52d1b379-659c-484f-bd6f-957b3be76ae1",
   "metadata": {},
   "outputs": [
    {
     "name": "stdout",
     "output_type": "stream",
     "text": [
      "The fibonacci sequence upto 10 terms is: \n",
      "0\n",
      "1\n",
      "1\n",
      "2\n",
      "3\n",
      "5\n",
      "8\n",
      "13\n",
      "21\n",
      "34\n"
     ]
    }
   ],
   "source": [
    "print(f\"The fibonacci sequence upto {n} terms is: \")\n",
    "for i in range(n):\n",
    "    print(fib(i))"
   ]
  }
 ],
 "metadata": {
  "kernelspec": {
   "display_name": "Python 3 (ipykernel)",
   "language": "python",
   "name": "python3"
  },
  "language_info": {
   "codemirror_mode": {
    "name": "ipython",
    "version": 3
   },
   "file_extension": ".py",
   "mimetype": "text/x-python",
   "name": "python",
   "nbconvert_exporter": "python",
   "pygments_lexer": "ipython3",
   "version": "3.12.3"
  }
 },
 "nbformat": 4,
 "nbformat_minor": 5
}
