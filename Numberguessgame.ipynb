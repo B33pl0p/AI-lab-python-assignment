{
 "cells": [
  {
   "cell_type": "code",
   "execution_count": 1,
   "id": "063f9ab2-224a-4376-865d-2154cb068169",
   "metadata": {},
   "outputs": [],
   "source": [
    "#Create a number guessing game.\n",
    "#Where you have to generate a random number in between 1 to 100 and user have to prompt a number for guess. \n",
    "#if its high or low number let the user know and guide them through the process to guess correct number."
   ]
  },
  {
   "cell_type": "code",
   "execution_count": 2,
   "id": "0f085d3c-fbbb-4a7d-89f4-b778644a6b2f",
   "metadata": {},
   "outputs": [],
   "source": [
    "import random"
   ]
  },
  {
   "cell_type": "code",
   "execution_count": 8,
   "id": "8e28e7fb-1462-4c63-973a-cb6a89c673cf",
   "metadata": {},
   "outputs": [
    {
     "name": "stdout",
     "output_type": "stream",
     "text": [
      "11\n"
     ]
    }
   ],
   "source": [
    "#generate a number between 1 and 100\n",
    "random_number = random.randint(1,100)\n",
    "print(random_number)"
   ]
  },
  {
   "cell_type": "code",
   "execution_count": 9,
   "id": "d9fc1f78-7f5a-4f58-abca-5ee35278e4b9",
   "metadata": {},
   "outputs": [
    {
     "name": "stdin",
     "output_type": "stream",
     "text": [
      "Guess a number 8\n"
     ]
    },
    {
     "name": "stdout",
     "output_type": "stream",
     "text": [
      "You have guessed a smaller number.\n"
     ]
    },
    {
     "name": "stdin",
     "output_type": "stream",
     "text": [
      "Enter a bigger number 100\n"
     ]
    },
    {
     "name": "stdout",
     "output_type": "stream",
     "text": [
      "You have guessed a bigger number.\n"
     ]
    },
    {
     "name": "stdin",
     "output_type": "stream",
     "text": [
      "Enter a smaller number 20\n"
     ]
    },
    {
     "name": "stdout",
     "output_type": "stream",
     "text": [
      "You have guessed a bigger number.\n"
     ]
    },
    {
     "name": "stdin",
     "output_type": "stream",
     "text": [
      "Enter a smaller number 12\n"
     ]
    },
    {
     "name": "stdout",
     "output_type": "stream",
     "text": [
      "You have guessed a bigger number.\n"
     ]
    },
    {
     "name": "stdin",
     "output_type": "stream",
     "text": [
      "Enter a smaller number 11\n"
     ]
    },
    {
     "name": "stdout",
     "output_type": "stream",
     "text": [
      "Congratulations. You guessed the number successfully\n"
     ]
    }
   ],
   "source": [
    "#take a guess from user untill right guess found\n",
    "user_guess = int(input(\"Guess a number\"))\n",
    "while(user_guess != random_number):\n",
    "    if(user_guess > random_number):\n",
    "        print(\"You have guessed a bigger number.\")\n",
    "        user_guess = int(input(\"Enter a smaller number\"))\n",
    "    if(user_guess < random_number):\n",
    "        print(\"You have guessed a smaller number.\")\n",
    "        user_guess = int(input(\"Enter a bigger number\"))\n",
    "print(\"Congratulations. You guessed the number successfully\")\n"
   ]
  }
 ],
 "metadata": {
  "kernelspec": {
   "display_name": "Python 3 (ipykernel)",
   "language": "python",
   "name": "python3"
  },
  "language_info": {
   "codemirror_mode": {
    "name": "ipython",
    "version": 3
   },
   "file_extension": ".py",
   "mimetype": "text/x-python",
   "name": "python",
   "nbconvert_exporter": "python",
   "pygments_lexer": "ipython3",
   "version": "3.12.3"
  }
 },
 "nbformat": 4,
 "nbformat_minor": 5
}
