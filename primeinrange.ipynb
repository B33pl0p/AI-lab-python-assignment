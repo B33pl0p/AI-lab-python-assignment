{
 "cells": [
  {
   "cell_type": "code",
   "execution_count": 1,
   "id": "ecfb0ec3-d978-4f0f-8c40-cf48446c637f",
   "metadata": {},
   "outputs": [],
   "source": [
    "#find prime numbers in a given range\n",
    "#defining a function to check if a number is prime\n",
    "def isPrime(num):\n",
    "    flag = 0\n",
    "    for i in range(2, num):\n",
    "        if (num % i == 0):\n",
    "            flag = 1\n",
    "            break\n",
    "        else :\n",
    "            flag = 0   \n",
    "    if(flag == 1):\n",
    "        return False\n",
    "    elif(flag == 0):\n",
    "        return True   "
   ]
  },
  {
   "cell_type": "code",
   "execution_count": 2,
   "id": "82d49cdf-83c0-4e38-b7e5-9f0325004ddb",
   "metadata": {},
   "outputs": [],
   "source": [
    "#empty list\n",
    "primes = []"
   ]
  },
  {
   "cell_type": "code",
   "execution_count": 3,
   "id": "ce59aeb4-7c35-41ee-9c38-36a01ae12cbc",
   "metadata": {},
   "outputs": [
    {
     "name": "stdin",
     "output_type": "stream",
     "text": [
      "Enter lower limit  1\n",
      "Enter upper limit  500\n"
     ]
    }
   ],
   "source": [
    "lowerLimit = int(input(\"Enter lower limit \"))\n",
    "upperLimit = int(input(\"Enter upper limit \"))\n"
   ]
  },
  {
   "cell_type": "code",
   "execution_count": 4,
   "id": "9ba5f17b-c4e5-497a-a5a7-47d795ab864f",
   "metadata": {},
   "outputs": [
    {
     "name": "stdout",
     "output_type": "stream",
     "text": [
      "list of prime numbers between 1 and 500: \n",
      "[1, 2, 3, 5, 7, 11, 13, 17, 19, 23, 29, 31, 37, 41, 43, 47, 53, 59, 61, 67, 71, 73, 79, 83, 89, 97, 101, 103, 107, 109, 113, 127, 131, 137, 139, 149, 151, 157, 163, 167, 173, 179, 181, 191, 193, 197, 199, 211, 223, 227, 229, 233, 239, 241, 251, 257, 263, 269, 271, 277, 281, 283, 293, 307, 311, 313, 317, 331, 337, 347, 349, 353, 359, 367, 373, 379, 383, 389, 397, 401, 409, 419, 421, 431, 433, 439, 443, 449, 457, 461, 463, 467, 479, 487, 491, 499]\n"
     ]
    }
   ],
   "source": [
    "for i in range(lowerLimit, upperLimit):\n",
    "    if(isPrime(i)):\n",
    "        primes.append(i)    \n",
    "print(f\"list of prime numbers between {lowerLimit} and {upperLimit}: \")\n",
    "print(primes)"
   ]
  }
 ],
 "metadata": {
  "kernelspec": {
   "display_name": "Python 3 (ipykernel)",
   "language": "python",
   "name": "python3"
  },
  "language_info": {
   "codemirror_mode": {
    "name": "ipython",
    "version": 3
   },
   "file_extension": ".py",
   "mimetype": "text/x-python",
   "name": "python",
   "nbconvert_exporter": "python",
   "pygments_lexer": "ipython3",
   "version": "3.12.3"
  }
 },
 "nbformat": 4,
 "nbformat_minor": 5
}
