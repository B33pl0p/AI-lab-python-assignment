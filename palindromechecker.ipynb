{
 "cells": [
  {
   "cell_type": "code",
   "execution_count": 1,
   "id": "148915b8-5765-45f1-86bc-08e7ebb16961",
   "metadata": {},
   "outputs": [],
   "source": [
    "import re "
   ]
  },
  {
   "cell_type": "code",
   "execution_count": 3,
   "id": "ef168971-7dce-4cfc-8b46-e7e40f70a3d8",
   "metadata": {},
   "outputs": [],
   "source": [
    "def isPalindrome(st):\n",
    "    rev_string = \"\"\n",
    "    #reversing the string\n",
    "    for i in st:\n",
    "        rev_string = i + rev_string\n",
    "    #comparing the strings\n",
    "    if(st == rev_string):\n",
    "        return True"
   ]
  },
  {
   "cell_type": "code",
   "execution_count": 4,
   "id": "f242d23a-f25f-4bb1-ab94-acb2aa848439",
   "metadata": {},
   "outputs": [
    {
     "name": "stdin",
     "output_type": "stream",
     "text": [
      "Enter a string to check for palindrome:  was it a car or a cat i saw\n"
     ]
    }
   ],
   "source": [
    "string = input(\"Enter a string to check for palindrome: \")\n",
    "#cleanup the string using regex\n",
    "formatted_string = re.sub(r'[^a-zA-Z0-9]','' , string)"
   ]
  },
  {
   "cell_type": "code",
   "execution_count": 6,
   "id": "f0100775-6f3c-416c-be4a-2477e6648f19",
   "metadata": {},
   "outputs": [
    {
     "name": "stdout",
     "output_type": "stream",
     "text": [
      "'was it a car or a cat i saw' is a palindrome\n"
     ]
    }
   ],
   "source": [
    "if(isPalindrome(formatted_string)):\n",
    "    print(f\"'{string}' is a palindrome\")\n",
    "else :\n",
    "    print(f\"'{string}' is not a palindrome\")"
   ]
  }
 ],
 "metadata": {
  "kernelspec": {
   "display_name": "Python 3 (ipykernel)",
   "language": "python",
   "name": "python3"
  },
  "language_info": {
   "codemirror_mode": {
    "name": "ipython",
    "version": 3
   },
   "file_extension": ".py",
   "mimetype": "text/x-python",
   "name": "python",
   "nbconvert_exporter": "python",
   "pygments_lexer": "ipython3",
   "version": "3.12.3"
  }
 },
 "nbformat": 4,
 "nbformat_minor": 5
}
